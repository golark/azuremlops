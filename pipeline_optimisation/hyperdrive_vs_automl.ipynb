{
  "cells": [
    {
      "cell_type": "code",
      "source": [
        "%load_ext autoreload\n",
        "%autoreload 2"
      ],
      "outputs": [],
      "execution_count": 1,
      "metadata": {
        "collapsed": true,
        "jupyter": {
          "source_hidden": false,
          "outputs_hidden": false
        },
        "nteract": {
          "transient": {
            "deleting": false
          }
        },
        "gather": {
          "logged": 1623527685193
        }
      }
    },
    {
      "cell_type": "code",
      "source": [
        "WORKSPACE='uqml'\n",
        "RESOURCE_GROUP='uqml'\n",
        "SUBSCRIPTION_ID='96185854-d711-439b-bfa4-fc8abfc8983c'"
      ],
      "outputs": [],
      "execution_count": 2,
      "metadata": {
        "collapsed": true,
        "jupyter": {
          "source_hidden": false,
          "outputs_hidden": false
        },
        "nteract": {
          "transient": {
            "deleting": false
          }
        },
        "gather": {
          "logged": 1625429534533
        }
      }
    },
    {
      "cell_type": "markdown",
      "source": [
        "## create experiment"
      ],
      "metadata": {
        "nteract": {
          "transient": {
            "deleting": false
          }
        }
      }
    },
    {
      "cell_type": "code",
      "source": [
        "from azureml.core import Workspace, Experiment\n",
        "\n",
        "ws = Workspace.get(\n",
        "    name=WORKSPACE,\n",
        "    subscription_id=SUBSCRIPTION_ID,\n",
        "    resource_group=RESOURCE_GROUP,\n",
        ")\n",
        "exp = Experiment(workspace=ws, name=\"optimizing_ml_pipeline\")\n",
        "\n",
        "print('Workspace name: ' + ws.name, \n",
        "      'Azure region: ' + ws.location, \n",
        "      'Subscription id: ' + ws.subscription_id, \n",
        "      'Resource group: ' + ws.resource_group, sep = '\\n')\n",
        "\n",
        "run = exp.start_logging()"
      ],
      "outputs": [
        {
          "output_type": "stream",
          "name": "stdout",
          "text": [
            "Workspace name: uqml\n",
            "Azure region: uksouth\n",
            "Subscription id: 96185854-d711-439b-bfa4-fc8abfc8983c\n",
            "Resource group: uqml\n"
          ]
        }
      ],
      "execution_count": 3,
      "metadata": {
        "gather": {
          "logged": 1625429552968
        }
      }
    },
    {
      "cell_type": "code",
      "source": [
        "for run in exp.get_runs():\n",
        "    if run.status==\"Running\":\n",
        "        print(f'cancelling {run.id}')\n",
        "        run.cancel()"
      ],
      "outputs": [
        {
          "output_type": "stream",
          "name": "stdout",
          "text": [
            "cancelling 411e7652-4ef2-4f4d-b370-8092b7adf2bf\n"
          ]
        }
      ],
      "execution_count": 4,
      "metadata": {
        "collapsed": true,
        "jupyter": {
          "source_hidden": false,
          "outputs_hidden": false
        },
        "nteract": {
          "transient": {
            "deleting": false
          }
        },
        "gather": {
          "logged": 1625429554243
        }
      }
    },
    {
      "cell_type": "markdown",
      "source": [
        "## create a compute cluster"
      ],
      "metadata": {
        "nteract": {
          "transient": {
            "deleting": false
          }
        }
      }
    },
    {
      "cell_type": "code",
      "source": [
        "from azureml.core.compute import ComputeTarget, AmlCompute\n",
        "from azureml.core.compute_target import ComputeTargetException\n",
        "\n",
        "# Choose a name for your CPU cluster\n",
        "cpu_cluster_name = \"mlopscluster\"\n",
        "\n",
        "# Verify that cluster does not exist already\n",
        "try:\n",
        "    cpu_cluster = ComputeTarget(workspace=ws, name=cpu_cluster_name)\n",
        "    print('Found existing cluster, use it.')\n",
        "except ComputeTargetException:\n",
        "    compute_config = AmlCompute.provisioning_configuration(vm_size='Standard_NC6',\n",
        "                                                           max_nodes=4)\n",
        "    cpu_cluster = ComputeTarget.create(ws, cpu_cluster_name, compute_config)\n",
        "\n",
        "cpu_cluster.wait_for_completion(show_output=True)"
      ],
      "outputs": [
        {
          "output_type": "stream",
          "name": "stdout",
          "text": [
            "Found existing cluster, use it.\n",
            "Succeeded\n",
            "AmlCompute wait for completion finished\n",
            "\n",
            "Minimum number of nodes requested have been provisioned\n"
          ]
        }
      ],
      "execution_count": 5,
      "metadata": {
        "collapsed": true,
        "jupyter": {
          "source_hidden": false,
          "outputs_hidden": false
        },
        "nteract": {
          "transient": {
            "deleting": false
          }
        },
        "gather": {
          "logged": 1625429556767
        }
      }
    },
    {
      "cell_type": "markdown",
      "source": [
        "## create conda environment file and register environment"
      ],
      "metadata": {
        "nteract": {
          "transient": {
            "deleting": false
          }
        }
      }
    },
    {
      "cell_type": "code",
      "source": [
        "%%writefile conda_dependencies.yml\n",
        "\n",
        "dependencies:\n",
        "- python=3.6.2\n",
        "- scikit-learn\n",
        "- pip:\n",
        "  - azureml-defaults"
      ],
      "outputs": [
        {
          "output_type": "stream",
          "name": "stdout",
          "text": [
            "Overwriting conda_dependencies.yml\n"
          ]
        }
      ],
      "execution_count": 6,
      "metadata": {
        "collapsed": true,
        "jupyter": {
          "source_hidden": false,
          "outputs_hidden": false
        },
        "nteract": {
          "transient": {
            "deleting": false
          }
        }
      }
    },
    {
      "cell_type": "code",
      "source": [
        "from azureml.core import Environment\n",
        "sklearn_env = Environment.from_conda_specification(name = 'sklearn-env', file_path = './conda_dependencies.yml')"
      ],
      "outputs": [],
      "execution_count": 7,
      "metadata": {
        "collapsed": true,
        "jupyter": {
          "source_hidden": false,
          "outputs_hidden": false
        },
        "nteract": {
          "transient": {
            "deleting": false
          }
        },
        "gather": {
          "logged": 1625429559677
        }
      }
    },
    {
      "cell_type": "markdown",
      "source": [
        "# 1 - hyperdrive config"
      ],
      "metadata": {
        "nteract": {
          "transient": {
            "deleting": false
          }
        }
      }
    },
    {
      "cell_type": "markdown",
      "source": [
        "## setup hyperdrive config and submit"
      ],
      "metadata": {
        "nteract": {
          "transient": {
            "deleting": false
          }
        }
      }
    },
    {
      "cell_type": "code",
      "source": [
        "from azureml.widgets import RunDetails\n",
        "from azureml.train.sklearn import SKLearn\n",
        "from azureml.core import ScriptRunConfig\n",
        "from azureml.train.hyperdrive.run import PrimaryMetricGoal\n",
        "from azureml.train.hyperdrive.policy import BanditPolicy\n",
        "from azureml.train.hyperdrive.sampling import RandomParameterSampling\n",
        "from azureml.train.hyperdrive.runconfig import HyperDriveConfig\n",
        "from azureml.train.hyperdrive.parameter_expressions import uniform, normal, choice, quniform\n",
        "import os\n",
        "\n",
        "\n",
        "# Specify parameter sampler\n",
        "ps = RandomParameterSampling( {\n",
        "    \"--C\": choice(0.001, 0.01, 0.1, 1, 10, 100, 1000),\n",
        "    \"--max_iter\": choice(100, 200, 300, 400, 500)\n",
        "} )\n",
        "\n",
        "# Specify a Policy\n",
        "policy = BanditPolicy(slack_factor = 0.1, evaluation_interval=3, delay_evaluation=1)\n",
        "\n",
        "if \"training\" not in os.listdir():\n",
        "    os.mkdir(\"./training\")\n",
        "\n",
        "# Create a SKLearn estimator for use with train.py\n",
        "src = ScriptRunConfig(source_directory='.',\n",
        "                      script='train.py',\n",
        "                      compute_target=ws.compute_targets['mlopscluster'],\n",
        "                      environment=sklearn_env)\n",
        "\n",
        "# Create a HyperDriveConfig using the estimator, hyperparameter sampler, and policy.\n",
        "hyperdrive_config = HyperDriveConfig(run_config=src,\n",
        "                             hyperparameter_sampling=ps,\n",
        "                             policy=policy,\n",
        "                             primary_metric_name=\"accuracy\",\n",
        "                             primary_metric_goal=PrimaryMetricGoal.MAXIMIZE,\n",
        "                             max_total_runs=20,\n",
        "                             max_concurrent_runs=)\n",
        "\n",
        "hyperdrive_run = exp.submit(hyperdrive_config)\n",
        "\n",
        "RunDetails(hyperdrive_run).show()"
      ],
      "outputs": [
        {
          "output_type": "stream",
          "name": "stderr",
          "text": [
            "'SKLearn' estimator is deprecated. Please use 'ScriptRunConfig' from 'azureml.core.script_run_config' with your own defined environment or the AzureML-Tutorial curated environment.\n",
            "'enabled' is deprecated. Please use the azureml.core.runconfig.DockerConfiguration object with the 'use_docker' param instead.\n"
          ]
        }
      ],
      "execution_count": 23,
      "metadata": {
        "gather": {
          "logged": 1625431638188
        },
        "jupyter": {
          "outputs_hidden": false,
          "source_hidden": false
        },
        "nteract": {
          "transient": {
            "deleting": false
          }
        }
      }
    },
    {
      "cell_type": "markdown",
      "source": [
        "## inspect the results"
      ],
      "metadata": {
        "nteract": {
          "transient": {
            "deleting": false
          }
        }
      }
    },
    {
      "cell_type": "code",
      "source": [
        "# wait for the results and extract the best run\n",
        "hyperdrive_run.wait_for_completion(show_output=True)\n",
        "assert(hyperdrive_run.get_status() == \"Completed\")\n",
        "\n",
        "best_run = hyperdrive_run.get_best_run_by_primary_metric()\n",
        "best_run_metrics = best_run.get_metrics()\n",
        "parameter_values = best_run.get_details()['runDefinition']['arguments']\n",
        "\n",
        "print('Best Run Id: ', best_run.id)\n",
        "print(best_run_metrics)"
      ],
      "outputs": [
        {
          "output_type": "stream",
          "name": "stdout",
          "text": [
            "RunId: HD_0af6bbed-bcf1-4d4a-907c-0d92094e85d5\n",
            "Web View: https://ml.azure.com/runs/HD_0af6bbed-bcf1-4d4a-907c-0d92094e85d5?wsid=/subscriptions/96185854-d711-439b-bfa4-fc8abfc8983c/resourcegroups/uqml/workspaces/uqml&tid=5a488f9a-6465-4e8f-bbbe-e4c54aae2465\n",
            "\n",
            "Execution Summary\n",
            "=================\n",
            "RunId: HD_0af6bbed-bcf1-4d4a-907c-0d92094e85d5\n",
            "Web View: https://ml.azure.com/runs/HD_0af6bbed-bcf1-4d4a-907c-0d92094e85d5?wsid=/subscriptions/96185854-d711-439b-bfa4-fc8abfc8983c/resourcegroups/uqml/workspaces/uqml&tid=5a488f9a-6465-4e8f-bbbe-e4c54aae2465\n",
            "\n",
            "Best Run Id:  HD_0af6bbed-bcf1-4d4a-907c-0d92094e85d5_0\n",
            "{'regularization_strength': 0.01, 'max_iterations': 200, 'accuracy': 0.9084366600190757}\n"
          ]
        }
      ],
      "execution_count": 40,
      "metadata": {
        "gather": {
          "logged": 1625434830653
        },
        "jupyter": {
          "outputs_hidden": false,
          "source_hidden": false
        },
        "nteract": {
          "transient": {
            "deleting": false
          }
        }
      }
    },
    {
      "cell_type": "markdown",
      "source": [
        "# 2 - automl"
      ],
      "metadata": {
        "nteract": {
          "transient": {
            "deleting": false
          }
        }
      }
    },
    {
      "cell_type": "code",
      "source": [
        "from sklearn.metrics import mean_squared_error\n",
        "import joblib\n",
        "from sklearn.model_selection import train_test_split\n",
        "from sklearn.preprocessing import OneHotEncoder\n",
        "from azureml.data.dataset_factory import TabularDatasetFactory\n",
        "from train import clean_data\n",
        "\n",
        "ds=TabularDatasetFactory.from_delimited_files(\"https://automlsamplenotebookdata.blob.core.windows.net/automl-sample-notebook-data/bankmarketing_train.csv\")\n",
        "\n",
        "x, y = clean_data(ds)\n",
        "\n",
        "x_train, x_test, y_train, y_test = train_test_split(x, y, train_size=0.65,test_size=0.35, random_state=101)"
      ],
      "outputs": [],
      "execution_count": 30,
      "metadata": {
        "collapsed": true,
        "jupyter": {
          "source_hidden": false,
          "outputs_hidden": false
        },
        "nteract": {
          "transient": {
            "deleting": false
          }
        },
        "gather": {
          "logged": 1625432079627
        }
      }
    },
    {
      "cell_type": "code",
      "source": [
        "from azureml.train.automl import AutoMLConfig\n",
        "# Set parameters for AutoMLConfig\n",
        "# NOTE: DO NOT CHANGE THE experiment_timeout_minutes PARAMETER OR YOUR INSTANCE WILL TIME OUT.\n",
        "# If you wish to run the experiment longer, you will need to run this notebook in your own\n",
        "# Azure tenant, which will incur personal costs.\n",
        "automl_config = AutoMLConfig(\n",
        "    experiment_timeout_minutes=15,\n",
        "    task= 'classification',\n",
        "    primary_metric='accuracy',\n",
        "    training_data=x,\n",
        "    label_column_name='y',\n",
        "    n_cross_validations=2)\n",
        "\n",
        "# Submit automl run\n",
        "#experiment = Experiment(ws, \"automl-experiment\")\n",
        "run = exp.submit(automl_config, show_output=True)\n",
        "\n"
      ],
      "outputs": [
        {
          "output_type": "stream",
          "name": "stdout",
          "text": [
            "No run_configuration provided, running on local with default configuration\n",
            "Running in the active local environment.\n"
          ]
        },
        {
          "output_type": "display_data",
          "data": {
            "text/plain": "<IPython.core.display.HTML object>",
            "text/html": "<table style=\"width:100%\"><tr><th>Experiment</th><th>Id</th><th>Type</th><th>Status</th><th>Details Page</th><th>Docs Page</th></tr><tr><td>optimizing_ml_pipeline</td><td>AutoML_d3764fac-b541-4a47-a74d-a2c0299114ed</td><td>automl</td><td>Preparing</td><td><a href=\"https://ml.azure.com/runs/AutoML_d3764fac-b541-4a47-a74d-a2c0299114ed?wsid=/subscriptions/96185854-d711-439b-bfa4-fc8abfc8983c/resourcegroups/uqml/workspaces/uqml&amp;tid=5a488f9a-6465-4e8f-bbbe-e4c54aae2465\" target=\"_blank\" rel=\"noopener\">Link to Azure Machine Learning studio</a></td><td><a href=\"https://docs.microsoft.com/en-us/python/api/overview/azure/ml/intro?view=azure-ml-py\" target=\"_blank\" rel=\"noopener\">Link to Documentation</a></td></tr></table>"
          },
          "metadata": {}
        },
        {
          "output_type": "stream",
          "name": "stdout",
          "text": [
            "Current status: DatasetEvaluation. Gathering dataset statistics.\n",
            "Current status: FeaturesGeneration. Generating features for the dataset.\n",
            "Current status: DatasetFeaturization. Beginning to fit featurizers and featurize the dataset.\n",
            "Current status: DatasetFeaturizationCompleted. Completed fit featurizers and featurizing the dataset.\n",
            "Current status: DatasetBalancing. Performing class balancing sweeping\n",
            "Current status: DatasetCrossValidationSplit. Generating individually featurized CV splits.\n",
            "\n",
            "****************************************************************************************************\n",
            "DATA GUARDRAILS: \n",
            "\n",
            "TYPE:         Class balancing detection\n",
            "STATUS:       ALERTED\n",
            "DESCRIPTION:  To decrease model bias, please cancel the current run and fix balancing problem.\n",
            "              Learn more about imbalanced data: https://aka.ms/AutomatedMLImbalancedData\n",
            "DETAILS:      Imbalanced data can lead to a falsely perceived positive effect of a model's accuracy because the input data has bias towards one class.\n",
            "+---------------------------------+---------------------------------+--------------------------------------+\n",
            "|Size of the smallest class       |Name/Label of the smallest class |Number of samples in the training data|\n",
            "+=================================+=================================+======================================+\n",
            "|3692                             |yes                              |32950                                 |\n",
            "+---------------------------------+---------------------------------+--------------------------------------+\n",
            "\n",
            "****************************************************************************************************\n",
            "\n",
            "TYPE:         Missing feature values imputation\n",
            "STATUS:       PASSED\n",
            "DESCRIPTION:  No feature missing values were detected in the training data.\n",
            "              Learn more about missing value imputation: https://aka.ms/AutomatedMLFeaturization\n",
            "\n",
            "****************************************************************************************************\n",
            "\n",
            "TYPE:         High cardinality feature detection\n",
            "STATUS:       PASSED\n",
            "DESCRIPTION:  Your inputs were analyzed, and no high cardinality features were detected.\n",
            "              Learn more about high cardinality feature handling: https://aka.ms/AutomatedMLFeaturization\n",
            "\n",
            "****************************************************************************************************\n",
            "Current status: ModelSelection. Beginning model selection.\n",
            "\n",
            "****************************************************************************************************\n",
            "ITERATION: The iteration being evaluated.\n",
            "PIPELINE: A summary description of the pipeline being evaluated.\n",
            "DURATION: Time taken for the current iteration.\n",
            "METRIC: The result of computing score on the fitted pipeline.\n",
            "BEST: The best observed score thus far.\n",
            "****************************************************************************************************\n",
            "\n",
            " ITERATION   PIPELINE                                       DURATION      METRIC      BEST\n",
            "         0   MaxAbsScaler LightGBM                          0:00:27       0.9129    0.9129\n",
            "         1   MaxAbsScaler XGBoostClassifier                 0:00:27       0.9131    0.9131\n",
            "         2   MaxAbsScaler RandomForest                      0:00:25       0.8931    0.9131\n",
            "         3   MaxAbsScaler RandomForest                      0:00:25       0.8880    0.9131\n",
            "         4   MaxAbsScaler RandomForest                      0:00:26       0.8096    0.9131\n",
            "         5   MaxAbsScaler RandomForest                      0:00:25       0.7394    0.9131\n",
            "         6   SparseNormalizer XGBoostClassifier             0:00:33       0.9124    0.9131\n",
            "         7   MaxAbsScaler GradientBoosting                  0:00:32       0.9032    0.9131\n",
            "         8   StandardScalerWrapper RandomForest             0:00:27       0.9008    0.9131\n",
            "         9   MaxAbsScaler LogisticRegression                0:00:26       0.9083    0.9131\n",
            "        10   MaxAbsScaler ExtremeRandomTrees                0:01:02       0.8880    0.9131\n",
            "        11   SparseNormalizer XGBoostClassifier             0:00:30       0.9124    0.9131\n",
            "        12   MaxAbsScaler LightGBM                          0:00:25       0.8914    0.9131\n",
            "        13   MaxAbsScaler LightGBM                          0:00:30       0.9049    0.9131\n",
            "        14   SparseNormalizer XGBoostClassifier             0:00:49       0.9121    0.9131\n",
            "        15   StandardScalerWrapper LightGBM                 0:00:25       0.8950    0.9131\n",
            "        16   StandardScalerWrapper RandomForest             0:00:32       0.8880    0.9131\n",
            "        17   StandardScalerWrapper LightGBM                 0:00:25       0.8880    0.9131\n",
            "        18   StandardScalerWrapper ExtremeRandomTrees       0:00:31       0.8880    0.9131\n",
            "        19   StandardScalerWrapper LightGBM                 0:00:25       0.9039    0.9131\n",
            "        20   SparseNormalizer XGBoostClassifier             0:00:26       0.9126    0.9131\n",
            "        21   VotingEnsemble                                 0:00:29       0.9159    0.9159\n",
            "        22   StackEnsemble                                  0:00:37       0.9143    0.9159\n",
            "Stopping criteria reached at iteration 23. Ending experiment.\n",
            "****************************************************************************************************\n",
            "Current status: BestRunExplainModel. Best run model explanations started\n",
            "Current status: ModelExplanationDataSetSetup. Model explanations data setup completed\n",
            "Current status: PickSurrogateModel. Choosing LightGBM as the surrogate model for explanations\n",
            "Current status: EngineeredFeatureExplanations. Computation of engineered features started\n",
            "Current status: EngineeredFeatureExplanations. Computation of engineered features completed\n",
            "Current status: RawFeaturesExplanations. Computation of raw features started\n",
            "Current status: RawFeaturesExplanations. Computation of raw features completed\n",
            "Current status: BestRunExplainModel. Best run model explanations completed\n",
            "****************************************************************************************************\n"
          ]
        }
      ],
      "execution_count": 31,
      "metadata": {
        "gather": {
          "logged": 1625433169818
        },
        "jupyter": {
          "outputs_hidden": false,
          "source_hidden": false
        },
        "nteract": {
          "transient": {
            "deleting": false
          }
        }
      }
    },
    {
      "cell_type": "code",
      "source": [
        "run.wait_for_completion(show_output=True)"
      ],
      "outputs": [
        {
          "output_type": "display_data",
          "data": {
            "text/plain": "<IPython.core.display.HTML object>",
            "text/html": "<table style=\"width:100%\"><tr><th>Experiment</th><th>Id</th><th>Type</th><th>Status</th><th>Details Page</th><th>Docs Page</th></tr><tr><td>optimizing_ml_pipeline</td><td>AutoML_d3764fac-b541-4a47-a74d-a2c0299114ed</td><td>automl</td><td>Completed</td><td><a href=\"https://ml.azure.com/runs/AutoML_d3764fac-b541-4a47-a74d-a2c0299114ed?wsid=/subscriptions/96185854-d711-439b-bfa4-fc8abfc8983c/resourcegroups/uqml/workspaces/uqml&amp;tid=5a488f9a-6465-4e8f-bbbe-e4c54aae2465\" target=\"_blank\" rel=\"noopener\">Link to Azure Machine Learning studio</a></td><td><a href=\"https://docs.microsoft.com/en-us/python/api/overview/azure/ml/intro?view=azure-ml-py\" target=\"_blank\" rel=\"noopener\">Link to Documentation</a></td></tr></table>"
          },
          "metadata": {}
        },
        {
          "output_type": "stream",
          "name": "stdout",
          "text": [
            "\n",
            "\n",
            "****************************************************************************************************\n",
            "DATA GUARDRAILS: \n",
            "\n",
            "TYPE:         Class balancing detection\n",
            "STATUS:       ALERTED\n",
            "DESCRIPTION:  To decrease model bias, please cancel the current run and fix balancing problem.\n",
            "              Learn more about imbalanced data: https://aka.ms/AutomatedMLImbalancedData\n",
            "DETAILS:      Imbalanced data can lead to a falsely perceived positive effect of a model's accuracy because the input data has bias towards one class.\n",
            "+---------------------------------+---------------------------------+--------------------------------------+\n",
            "|Size of the smallest class       |Name/Label of the smallest class |Number of samples in the training data|\n",
            "+=================================+=================================+======================================+\n",
            "|3692                             |yes                              |32950                                 |\n",
            "+---------------------------------+---------------------------------+--------------------------------------+\n",
            "\n",
            "****************************************************************************************************\n",
            "\n",
            "TYPE:         Missing feature values imputation\n",
            "STATUS:       PASSED\n",
            "DESCRIPTION:  No feature missing values were detected in the training data.\n",
            "              Learn more about missing value imputation: https://aka.ms/AutomatedMLFeaturization\n",
            "\n",
            "****************************************************************************************************\n",
            "\n",
            "TYPE:         High cardinality feature detection\n",
            "STATUS:       PASSED\n",
            "DESCRIPTION:  Your inputs were analyzed, and no high cardinality features were detected.\n",
            "              Learn more about high cardinality feature handling: https://aka.ms/AutomatedMLFeaturization\n",
            "\n",
            "****************************************************************************************************\n",
            "\n",
            "****************************************************************************************************\n",
            "ITERATION: The iteration being evaluated.\n",
            "PIPELINE: A summary description of the pipeline being evaluated.\n",
            "DURATION: Time taken for the current iteration.\n",
            "METRIC: The result of computing score on the fitted pipeline.\n",
            "BEST: The best observed score thus far.\n",
            "****************************************************************************************************\n",
            "\n",
            " ITERATION   PIPELINE                                       DURATION      METRIC      BEST\n",
            "         0   MaxAbsScaler LightGBM                          0:00:27       0.9129    0.9129\n",
            "         1   MaxAbsScaler XGBoostClassifier                 0:00:28       0.9131    0.9131\n",
            "         2   MaxAbsScaler RandomForest                      0:00:25       0.8931    0.9131\n",
            "         3   MaxAbsScaler RandomForest                      0:00:26       0.8880    0.9131\n",
            "         4   MaxAbsScaler RandomForest                      0:00:26       0.8096    0.9131\n",
            "         5   MaxAbsScaler RandomForest                      0:00:26       0.7394    0.9131\n",
            "         6   SparseNormalizer XGBoostClassifier             0:00:34       0.9124    0.9131\n",
            "         7   MaxAbsScaler GradientBoosting                  0:00:32       0.9032    0.9131\n",
            "         8   StandardScalerWrapper RandomForest             0:00:27       0.9008    0.9131\n",
            "         9   MaxAbsScaler LogisticRegression                0:00:26       0.9083    0.9131\n",
            "        10   MaxAbsScaler ExtremeRandomTrees                0:01:03       0.8880    0.9131\n",
            "        11   SparseNormalizer XGBoostClassifier             0:00:31       0.9124    0.9131\n",
            "        12   MaxAbsScaler LightGBM                          0:00:25       0.8914    0.9131\n",
            "        13   MaxAbsScaler LightGBM                          0:00:31       0.9049    0.9131\n",
            "        14   SparseNormalizer XGBoostClassifier             0:00:50       0.9121    0.9131\n",
            "        15   StandardScalerWrapper LightGBM                 0:00:25       0.8950    0.9131\n",
            "        16   StandardScalerWrapper RandomForest             0:00:33       0.8880    0.9131\n",
            "        17   StandardScalerWrapper LightGBM                 0:00:26       0.8880    0.9131\n",
            "        18   StandardScalerWrapper ExtremeRandomTrees       0:00:32       0.8880    0.9131\n",
            "        19   StandardScalerWrapper LightGBM                 0:00:26       0.9039    0.9131\n",
            "        20   SparseNormalizer XGBoostClassifier             0:00:26       0.9126    0.9131\n",
            "        21    VotingEnsemble                                0:00:30       0.9159    0.9159\n",
            "        22    StackEnsemble                                 0:00:37       0.9143    0.9159\n"
          ]
        },
        {
          "output_type": "execute_result",
          "execution_count": 32,
          "data": {
            "text/plain": "{'runId': 'AutoML_d3764fac-b541-4a47-a74d-a2c0299114ed',\n 'target': 'local',\n 'status': 'Completed',\n 'startTimeUtc': '2021-07-04T20:54:42.211777Z',\n 'endTimeUtc': '2021-07-04T21:11:15.845537Z',\n 'properties': {'num_iterations': '1000',\n  'training_type': 'TrainFull',\n  'acquisition_function': 'EI',\n  'primary_metric': 'accuracy',\n  'train_split': '0',\n  'acquisition_parameter': '0',\n  'num_cross_validation': '2',\n  'target': 'local',\n  'AMLSettingsJsonString': '{\"path\":null,\"name\":\"optimizing_ml_pipeline\",\"subscription_id\":\"96185854-d711-439b-bfa4-fc8abfc8983c\",\"resource_group\":\"uqml\",\"workspace_name\":\"uqml\",\"region\":\"uksouth\",\"compute_target\":\"local\",\"spark_service\":null,\"azure_service\":\"Microsoft.AzureNotebookVM\",\"many_models\":false,\"pipeline_fetch_max_batch_size\":1,\"enable_batch_run\":false,\"enable_run_restructure\":false,\"start_auxiliary_runs_before_parent_complete\":false,\"iterations\":1000,\"primary_metric\":\"accuracy\",\"task_type\":\"classification\",\"data_script\":null,\"test_size\":0.0,\"validation_size\":0.0,\"n_cross_validations\":2,\"y_min\":null,\"y_max\":null,\"num_classes\":null,\"featurization\":\"auto\",\"_ignore_package_version_incompatibilities\":false,\"is_timeseries\":false,\"max_cores_per_iteration\":1,\"max_concurrent_iterations\":1,\"iteration_timeout_minutes\":null,\"mem_in_mb\":null,\"enforce_time_on_windows\":false,\"experiment_timeout_minutes\":15,\"experiment_exit_score\":null,\"whitelist_models\":null,\"blacklist_algos\":[\"TensorFlowLinearClassifier\",\"TensorFlowDNN\"],\"supported_models\":[\"AveragedPerceptronClassifier\",\"SGD\",\"LogisticRegression\",\"LinearSVM\",\"XGBoostClassifier\",\"SVM\",\"MultinomialNaiveBayes\",\"BernoulliNaiveBayes\",\"DecisionTree\",\"GradientBoosting\",\"TensorFlowLinearClassifier\",\"TensorFlowDNN\",\"KNN\",\"RandomForest\",\"ExtremeRandomTrees\",\"LightGBM\"],\"private_models\":[],\"auto_blacklist\":true,\"blacklist_samples_reached\":false,\"exclude_nan_labels\":true,\"verbosity\":20,\"_debug_log\":\"automl.log\",\"show_warnings\":false,\"model_explainability\":true,\"service_url\":null,\"sdk_url\":null,\"sdk_packages\":null,\"enable_onnx_compatible_models\":false,\"enable_split_onnx_featurizer_estimator_models\":false,\"vm_type\":null,\"telemetry_verbosity\":20,\"send_telemetry\":true,\"enable_dnn\":false,\"scenario\":\"SDK-1.13.0\",\"environment_label\":null,\"save_mlflow\":false,\"force_text_dnn\":false,\"enable_feature_sweeping\":true,\"enable_early_stopping\":false,\"early_stopping_n_iters\":10,\"metrics\":null,\"enable_metric_confidence\":false,\"enable_ensembling\":true,\"enable_stack_ensembling\":true,\"ensemble_iterations\":15,\"enable_tf\":false,\"enable_subsampling\":null,\"subsample_seed\":null,\"enable_nimbusml\":false,\"enable_streaming\":false,\"force_streaming\":false,\"track_child_runs\":true,\"allowed_private_models\":[],\"label_column_name\":\"y\",\"weight_column_name\":null,\"cv_split_column_names\":null,\"enable_local_managed\":false,\"_local_managed_run_id\":null,\"cost_mode\":1,\"lag_length\":0,\"metric_operation\":\"maximize\",\"preprocess\":true}',\n  'DataPrepJsonString': None,\n  'EnableSubsampling': None,\n  'runTemplate': 'AutoML',\n  'azureml.runsource': 'automl',\n  'display_task_type': 'classification',\n  'dependencies_versions': '{\"azureml-widgets\": \"1.27.0\", \"azureml-train\": \"1.27.0\", \"azureml-train-restclients-hyperdrive\": \"1.27.0\", \"azureml-train-core\": \"1.27.0\", \"azureml-train-automl\": \"1.27.0\", \"azureml-train-automl-runtime\": \"1.27.0\", \"azureml-train-automl-client\": \"1.27.0\", \"azureml-tensorboard\": \"1.27.0\", \"azureml-telemetry\": \"1.27.0\", \"azureml-sdk\": \"1.27.0\", \"azureml-samples\": \"0+unknown\", \"azureml-pipeline\": \"1.27.0\", \"azureml-pipeline-steps\": \"1.27.0\", \"azureml-pipeline-core\": \"1.27.0\", \"azureml-opendatasets\": \"1.27.0\", \"azureml-model-management-sdk\": \"1.0.1b6.post1\", \"azureml-mlflow\": \"1.27.0\", \"azureml-interpret\": \"1.27.0\", \"azureml-explain-model\": \"1.27.0\", \"azureml-defaults\": \"1.27.0\", \"azureml-dataset-runtime\": \"1.27.0\", \"azureml-dataprep\": \"2.14.2\", \"azureml-dataprep-rslex\": \"1.12.1\", \"azureml-dataprep-native\": \"33.0.0\", \"azureml-datadrift\": \"1.27.0\", \"azureml-core\": \"1.27.0\", \"azureml-contrib-services\": \"1.27.0\", \"azureml-contrib-server\": \"1.27.0\", \"azureml-contrib-reinforcementlearning\": \"1.27.0\", \"azureml-contrib-pipeline-steps\": \"1.27.0\", \"azureml-contrib-notebook\": \"1.27.0\", \"azureml-contrib-gbdt\": \"1.27.0\", \"azureml-contrib-fairness\": \"1.27.0\", \"azureml-contrib-dataset\": \"1.27.0\", \"azureml-cli-common\": \"1.27.0\", \"azureml-automl-runtime\": \"1.27.0\", \"azureml-automl-dnn-nlp\": \"1.27.0\", \"azureml-automl-core\": \"1.27.0\", \"azureml-accel-models\": \"1.27.0\"}',\n  '_aml_system_scenario_identification': 'Local.Parent',\n  'ClientSdkVersion': '1.27.0',\n  'ClientType': 'SDK',\n  'environment_cpu_name': 'AzureML-AutoML',\n  'environment_cpu_label': 'prod',\n  'environment_gpu_name': 'AzureML-AutoML-GPU',\n  'environment_gpu_label': 'prod',\n  'root_attribution': 'automl',\n  'attribution': 'AutoML',\n  'Orchestrator': 'AutoML',\n  '_azureml.ComputeTargetType': 'local',\n  'ProblemInfoJsonString': '{\"dataset_num_categorical\": 0, \"is_sparse\": true, \"subsampling\": false, \"dataset_classes\": 2, \"dataset_features\": 122, \"dataset_samples\": 32950, \"single_frequency_class_detected\": false}'},\n 'inputDatasets': [],\n 'outputDatasets': [],\n 'logFiles': {},\n 'submittedBy': 'Can Nur'}"
          },
          "metadata": {}
        }
      ],
      "execution_count": 32,
      "metadata": {
        "collapsed": true,
        "jupyter": {
          "source_hidden": false,
          "outputs_hidden": false
        },
        "nteract": {
          "transient": {
            "deleting": false
          }
        },
        "gather": {
          "logged": 1625433463413
        }
      }
    },
    {
      "cell_type": "markdown",
      "source": [
        "## get best run"
      ],
      "metadata": {
        "nteract": {
          "transient": {
            "deleting": false
          }
        }
      }
    },
    {
      "cell_type": "code",
      "source": [
        "best_run, fitted_model = run.get_output()\n",
        "print(best_run)\n",
        "print(fitted_model)\n",
        "\n",
        "model = best_run.register_model(model_name = 'best_model_automl', model_path = 'outputs/model.pkl')\n"
      ],
      "outputs": [
        {
          "output_type": "stream",
          "name": "stdout",
          "text": [
            "Run(Experiment: optimizing_ml_pipeline,\n",
            "Id: AutoML_d3764fac-b541-4a47-a74d-a2c0299114ed_21,\n",
            "Type: None,\n",
            "Status: Completed)\n",
            "Pipeline(memory=None,\n",
            "         steps=[('datatransformer',\n",
            "                 DataTransformer(enable_dnn=None, enable_feature_sweeping=None,\n",
            "                                 feature_sweeping_config=None,\n",
            "                                 feature_sweeping_timeout=None,\n",
            "                                 featurization_config=None, force_text_dnn=None,\n",
            "                                 is_cross_validation=None,\n",
            "                                 is_onnx_compatible=None, logger=None,\n",
            "                                 observer=None, task=None, working_dir=None)),\n",
            "                ('prefittedsoftvotingclassifier',...\n",
            "                                                                                                    min_samples_split=0.2442105263157895,\n",
            "                                                                                                    min_weight_fraction_leaf=0.0,\n",
            "                                                                                                    n_estimators=10,\n",
            "                                                                                                    n_jobs=1,\n",
            "                                                                                                    oob_score=False,\n",
            "                                                                                                    random_state=None,\n",
            "                                                                                                    verbose=0,\n",
            "                                                                                                    warm_start=False))],\n",
            "                                                                     verbose=False))],\n",
            "                                               flatten_transform=None,\n",
            "                                               weights=[0.09090909090909091,\n",
            "                                                        0.2727272727272727,\n",
            "                                                        0.18181818181818182,\n",
            "                                                        0.18181818181818182,\n",
            "                                                        0.09090909090909091,\n",
            "                                                        0.09090909090909091,\n",
            "                                                        0.09090909090909091]))],\n",
            "         verbose=False)\n",
            "Y_transformer(['LabelEncoder', LabelEncoder()])\n"
          ]
        }
      ],
      "execution_count": 42,
      "metadata": {
        "collapsed": true,
        "jupyter": {
          "source_hidden": false,
          "outputs_hidden": false
        },
        "nteract": {
          "transient": {
            "deleting": false
          }
        },
        "gather": {
          "logged": 1625434867416
        }
      }
    },
    {
      "cell_type": "code",
      "source": [
        "best_run.get_file_names()"
      ],
      "outputs": [
        {
          "output_type": "execute_result",
          "execution_count": 47,
          "data": {
            "text/plain": "['accuracy_table',\n 'confusion_matrix',\n 'explanation/161864e2/classes.interpret.json',\n 'explanation/161864e2/eval_data_viz.interpret.json',\n 'explanation/161864e2/expected_values.interpret.json',\n 'explanation/161864e2/features.interpret.json',\n 'explanation/161864e2/global_names/0.interpret.json',\n 'explanation/161864e2/global_rank/0.interpret.json',\n 'explanation/161864e2/global_values/0.interpret.json',\n 'explanation/161864e2/local_importance_values.interpret.json',\n 'explanation/161864e2/per_class_names/0.interpret.json',\n 'explanation/161864e2/per_class_rank/0.interpret.json',\n 'explanation/161864e2/per_class_values/0.interpret.json',\n 'explanation/161864e2/rich_metadata.interpret.json',\n 'explanation/161864e2/true_ys_viz.interpret.json',\n 'explanation/161864e2/visualization_dict.interpret.json',\n 'explanation/c9b43996/classes.interpret.json',\n 'explanation/c9b43996/expected_values.interpret.json',\n 'explanation/c9b43996/features.interpret.json',\n 'explanation/c9b43996/global_names/0.interpret.json',\n 'explanation/c9b43996/global_rank/0.interpret.json',\n 'explanation/c9b43996/global_values/0.interpret.json',\n 'explanation/c9b43996/local_importance_values.interpret.json',\n 'explanation/c9b43996/per_class_names/0.interpret.json',\n 'explanation/c9b43996/per_class_rank/0.interpret.json',\n 'explanation/c9b43996/per_class_values/0.interpret.json',\n 'explanation/c9b43996/rich_metadata.interpret.json',\n 'explanation/c9b43996/true_ys_viz.interpret.json',\n 'explanation/c9b43996/visualization_dict.interpret.json',\n 'explanation/c9b43996/ys_pred_proba_viz.interpret.json',\n 'explanation/c9b43996/ys_pred_viz.interpret.json',\n 'outputs/conda_env_v_1_0_0.yml',\n 'outputs/env_dependencies.json',\n 'outputs/internal_cross_validated_models.pkl',\n 'outputs/model.pkl',\n 'outputs/pipeline_graph.json',\n 'outputs/scoring_file_v_1_0_0.py']",
            "text/html": "['accuracy_table', 'confusion_matrix', 'explanation/161864e2/classes.interpret.json', 'explanation/161864e2/eval_data_viz.interpret.json', 'explanation/161864e2/expected_values.interpret.json', 'explanation/161864e2/features.interpret.json', 'explanation/161864e2/global_names/0.interpret.json', 'explanation/161864e2/global_rank/0.interpret.json', 'explanation/161864e2/global_values/0.interpret.json', 'explanation/161864e2/local_importance_values.interpret.json', 'explanation/161864e2/per_class_names/0.interpret.json', 'explanation/161864e2/per_class_rank/0.interpret.json', 'explanation/161864e2/per_class_values/0.interpret.json', 'explanation/161864e2/rich_metadata.interpret.json', 'explanation/161864e2/true_ys_viz.interpret.json', 'explanation/161864e2/visualization_dict.interpret.json', 'explanation/c9b43996/classes.interpret.json', 'explanation/c9b43996/expected_values.interpret.json', 'explanation/c9b43996/features.interpret.json', 'explanation/c9b43996/global_names/0.interpret.json', 'explanation/c9b43996/global_rank/0.interpret.json', 'explanation/c9b43996/global_values/0.interpret.json', 'explanation/c9b43996/local_importance_values.interpret.json', 'explanation/c9b43996/per_class_names/0.interpret.json', 'explanation/c9b43996/per_class_rank/0.interpret.json', 'explanation/c9b43996/per_class_values/0.interpret.json', 'explanation/c9b43996/rich_metadata.interpret.json', 'explanation/c9b43996/true_ys_viz.interpret.json', 'explanation/c9b43996/visualization_dict.interpret.json', 'explanation/c9b43996/ys_pred_proba_viz.interpret.json', 'explanation/c9b43996/ys_pred_viz.interpret.json', 'outputs/conda_env_v_1_0_0.yml', 'outputs/env_dependencies.json', 'outputs/internal_cross_validated_models.pkl', 'outputs/model.pkl', 'outputs/pipeline_graph.json', 'outputs/scoring_file_v_1_0_0.py']"
          },
          "metadata": {}
        }
      ],
      "execution_count": 47,
      "metadata": {
        "collapsed": true,
        "jupyter": {
          "source_hidden": false,
          "outputs_hidden": false
        },
        "nteract": {
          "transient": {
            "deleting": false
          }
        },
        "gather": {
          "logged": 1625435010441
        }
      }
    },
    {
      "cell_type": "markdown",
      "source": [
        "## plot top 3 features"
      ],
      "metadata": {
        "nteract": {
          "transient": {
            "deleting": false
          }
        }
      }
    },
    {
      "cell_type": "code",
      "source": [
        "from azureml.interpret import ExplanationClient\n",
        "import matplotlib.pyplot as plt\n",
        "\n",
        "client = ExplanationClient.from_run(best_run)\n",
        "engineered_explanations = client.download_model_explanation(raw=False)\n",
        "\n",
        "feature_importance_dict = engineered_explanations.get_feature_importance_dict()\n",
        "\n",
        "# top 3 metrics\n",
        "xx, yy = zip(*feature_importance_dict.items())\n",
        "plt.bar(xx[:3], yy[:3])"
      ],
      "outputs": [
        {
          "output_type": "execute_result",
          "execution_count": 46,
          "data": {
            "text/plain": "<BarContainer object of 3 artists>"
          },
          "metadata": {}
        },
        {
          "output_type": "display_data",
          "data": {
            "text/plain": "<Figure size 432x288 with 1 Axes>",
            "image/png": "[encoded data removed]"
          },
          "metadata": {
            "needs_background": "light"
          }
        }
      ],
      "execution_count": 46,
      "metadata": {
        "collapsed": true,
        "jupyter": {
          "source_hidden": false,
          "outputs_hidden": false
        },
        "nteract": {
          "transient": {
            "deleting": false
          }
        },
        "gather": {
          "logged": 1625434969417
        }
      }
    },
    {
      "cell_type": "markdown",
      "source": [
        "## delete compute cluster"
      ],
      "metadata": {
        "nteract": {
          "transient": {
            "deleting": false
          }
        }
      }
    },
    {
      "cell_type": "code",
      "source": [
        "cpu_cluster.delete()"
      ],
      "outputs": [],
      "execution_count": 48,
      "metadata": {
        "collapsed": true,
        "jupyter": {
          "source_hidden": false,
          "outputs_hidden": false
        },
        "nteract": {
          "transient": {
            "deleting": false
          }
        },
        "gather": {
          "logged": 1625435045341
        }
      }
    }
  ],
  "metadata": {
    "kernel_info": {
      "name": "python3"
    },
    "kernelspec": {
      "name": "python3",
      "language": "python",
      "display_name": "Python 3"
    },
    "language_info": {
      "name": "python",
      "version": "3.6.9",
      "mimetype": "text/x-python",
      "codemirror_mode": {
        "name": "ipython",
        "version": 3
      },
      "pygments_lexer": "ipython3",
      "nbconvert_exporter": "python",
      "file_extension": ".py"
    },
    "nteract": {
      "version": "nteract-front-end@1.0.0"
    },
    "microsoft": {
      "host": {
        "AzureML": {
          "notebookHasBeenCompleted": true
        }
      }
    }
  },
  "nbformat": 4,
  "nbformat_minor": 2
}